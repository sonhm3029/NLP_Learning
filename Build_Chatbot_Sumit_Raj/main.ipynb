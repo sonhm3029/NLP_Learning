{
 "cells": [
  {
   "cell_type": "markdown",
   "metadata": {},
   "source": [
    "## 1. Components of a Chatbot and Terminologies Used"
   ]
  },
  {
   "cell_type": "markdown",
   "metadata": {},
   "source": [
    "### Intent\n"
   ]
  },
  {
   "cell_type": "markdown",
   "metadata": {},
   "source": [
    "Khi người dùng tương tác với chatbot, ý định dùng chatbot của anh ấy/ cô ấy là gì, anh ấy/cô ấy muốn hỏi gì.\n",
    "\n",
    "Ví dụ, khi người dùng nói `Book a movie ticket` cho chatbot, chúng ta là human thì ta có thể hiểu ngay là người ta muốn đặt vé xem phim => Đây chính là intent cho chatbot và có thể đặt tên là `book_movie`"
   ]
  },
  {
   "cell_type": "markdown",
   "metadata": {},
   "source": [
    "### Entities"
   ]
  },
  {
   "cell_type": "markdown",
   "metadata": {},
   "source": [
    "Các Intents thì có metadata của chúng gọi là `Entities`. Trong ví dụ `Book a movie ticket`. Booking ticket có thể được gọi là intent và entity chính là `movie` ( nôm na gọi là thực thể nhắc tới, tác động tới trong intent). Ví dụ nhưu Flight, concert cũng là các ví dụ.\n",
    "\n",
    "Ta có thể có các entity (nhiều hơn 1) được gán nhãn chung và sử dụng trong intents. Các entity có thể đại diện cho số lượng, số đếm, khối lượng. \n",
    "\n",
    "Ví dụ: Order me a shoe size of 8.\n",
    "\n",
    "=> Trong intent order shoe có 2 entity là :\n",
    "- Category: Shoe\n",
    "- Size: 8"
   ]
  },
  {
   "cell_type": "markdown",
   "metadata": {},
   "source": [
    "### Utterances"
   ]
  },
  {
   "cell_type": "markdown",
   "metadata": {},
   "source": [
    "Utterances là các form khác nhau của cùng một câu hỏi/ intent của user:\n",
    "\n",
    "Nên sử dụng tầm 10 utter / intent hoặc tối thiểu thì là 5 utter/ intent"
   ]
  },
  {
   "cell_type": "markdown",
   "metadata": {},
   "source": [
    "### Training the Bot\n",
    "\n",
    "Việc training này là xây dựng một model học từ các existing set của các intent / entities và utterances đã define để có thể đưa ra utterances mới cùng với confidence score kèm theo.\n",
    "\n",
    "Khi ta train system sử dụng utterances, đây gọi là supervised learning."
   ]
  }
 ],
 "metadata": {
  "language_info": {
   "name": "python"
  },
  "orig_nbformat": 4
 },
 "nbformat": 4,
 "nbformat_minor": 2
}
