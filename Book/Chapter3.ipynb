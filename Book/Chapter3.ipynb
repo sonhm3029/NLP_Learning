{
 "cells": [
  {
   "cell_type": "markdown",
   "metadata": {},
   "source": [
    "# Chapter 3 - Text Representation"
   ]
  },
  {
   "cell_type": "markdown",
   "metadata": {},
   "source": [
    "![](../assets/images/Screenshot%20from%202023-10-04%2014-45-21.png)"
   ]
  },
  {
   "cell_type": "markdown",
   "metadata": {},
   "source": [
    "Text representation được phân làm 4 loại:\n",
    "- Basic vectorization approaches\n",
    "- Distributed representations\n",
    "- Universal language representation\n",
    "- Handcrafted features\n",
    "\n"
   ]
  },
  {
   "cell_type": "markdown",
   "metadata": {},
   "source": [
    "## 1. Vector space models"
   ]
  },
  {
   "cell_type": "markdown",
   "metadata": {},
   "source": [
    "Tính toán độ tương đồng giữa 2 vector:\n",
    "\n",
    "Cosine\n",
    "\n",
    "![](../assets/images/Screenshot%20from%202023-10-04%2014-54-46.png)"
   ]
  },
  {
   "cell_type": "markdown",
   "metadata": {},
   "source": [
    "Ngoài ra còn dùng khoảng cách Euclid"
   ]
  },
  {
   "cell_type": "markdown",
   "metadata": {},
   "source": [
    "## 2. Basic Vectorization Approaches"
   ]
  },
  {
   "cell_type": "markdown",
   "metadata": {},
   "source": [
    "Bắt đầu với ý tưởng đơn giản về text representation: map mỗi từ trong vocabulary (V) của text corpus tới một unique ID (integer value), \n",
    "Khi đó mỗi câu sẽ được biểu diễn bằng một vector `V` chiều.\n",
    "\n",
    "Ví dụ có 4 văn bản:\n",
    "\n",
    "![](../assets/images/Screenshot%20from%202023-10-04%2015-00-27.png)"
   ]
  },
  {
   "cell_type": "markdown",
   "metadata": {},
   "source": [
    "Sau khi apply các phương pháp pre-processing vào ta được vocabulary: [dogs, bites, man, eats, meat, food] -> 6 từ. Như vậy với mỗi Documents bây giờ ta có thể represented bằng một vector có số chiều là 6"
   ]
  },
  {
   "cell_type": "markdown",
   "metadata": {},
   "source": [
    "### 2.1 One-Hot Encoding"
   ]
  },
  {
   "cell_type": "markdown",
   "metadata": {},
   "source": [
    "Ví dụ đối với vocab [dogs, bites, man, eats, meat, food]:\n",
    "\n",
    "- dogs  -> [1, 0, 0, 0, 0, 0]\n",
    "- bites -> [0, 1, 0, 0, 0, 0]\n",
    "- man   -> [0, 0, 1, 0, 0, 0]\n",
    "- eats  -> [0, 0, 0, 1, 0, 0]\n",
    "- meat  -> [0, 0, 0, 0, 1, 0]\n",
    "- food  -> [0, 0, 0, 0, 0, 1]\n",
    "\n",
    "\n",
    "Như vậy với câu \"Dog bites man\" được biểu diễn:\n",
    "[\n",
    "    [1, 0, 0, 0, 0, 0],\n",
    "    [0, 1, 0, 0, 0, 0],\n",
    "    [0, 0, 1, 0, 0, 0]\n",
    "]\n",
    "\n",
    "Với kiểu mã hóa như thế này thì có lợi là nó khá dễ hiểu và dễ dàng thực hiện tuy nhiên gặp một số mặt hại như sau:\n",
    "\n",
    "- Dữ liệu biểu diễn có quá nhiều giá trị 0 trong điều kiện thực thế với kích thước vocab lớn\n",
    "- Không có fix length cho mỗi câu do các câu có số lượng từ khác nhau. Ta cần feature có length như nhau\n",
    "- Out of vocabulary (OOV) khi triển khai model gặp phải câu có từ không có trong từ điển -> Phải train lại"
   ]
  },
  {
   "cell_type": "markdown",
   "metadata": {},
   "source": [
    "### 2.2 Bag of Words"
   ]
  },
  {
   "cell_type": "markdown",
   "metadata": {},
   "source": [
    "Viết tắt là BoW, là một kĩ thuật text representation cổ điển được dùng khá phổ biến trong NLP đặc biệt trong text classification problems. Với cách biểu diễn này, ta bỏ qua mối quan hệ về thứ tự và ngữ cảnh trong câu.\n",
    "\n",
    "Giống như One-Hot Encoding về việc dùng Vocabulary vector\n",
    "\n",
    "Ví dụ với câu \"Dog bites man\" được biểu diễn là [1, 1, 1, 0, 0, 0]. Hiểu như sau với vector vocab: [dogs, bites, man, eats, meat, food]. Mỗi câu sẽ được biểu diễn bởi vector 6 chiều. Trong đó giá trị của mỗi phần từ là số lần xúât hiện của từ với index tương ứng trong vocab."
   ]
  },
  {
   "cell_type": "code",
   "execution_count": null,
   "metadata": {},
   "outputs": [],
   "source": [
    "from sklearn.feature_extraction.text import CountVectorizer\n",
    "count_vect = CountVectorizer()\n",
    "\n",
    "bow_rep = count_vect.fit_transform()"
   ]
  }
 ],
 "metadata": {
  "kernelspec": {
   "display_name": "base",
   "language": "python",
   "name": "python3"
  },
  "language_info": {
   "codemirror_mode": {
    "name": "ipython",
    "version": 3
   },
   "file_extension": ".py",
   "mimetype": "text/x-python",
   "name": "python",
   "nbconvert_exporter": "python",
   "pygments_lexer": "ipython3",
   "version": "3.10.9"
  },
  "orig_nbformat": 4
 },
 "nbformat": 4,
 "nbformat_minor": 2
}
