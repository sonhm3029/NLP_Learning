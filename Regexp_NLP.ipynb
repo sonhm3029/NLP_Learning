{
 "cells": [
  {
   "cell_type": "markdown",
   "metadata": {},
   "source": [
    "# Regular expression for NLP in python"
   ]
  },
  {
   "cell_type": "markdown",
   "metadata": {},
   "source": [
    "Tool should know:\n",
    "- [https://regex101.com/](https://regex101.com/)"
   ]
  },
  {
   "cell_type": "code",
   "execution_count": 1,
   "metadata": {},
   "outputs": [],
   "source": [
    "import re"
   ]
  },
  {
   "cell_type": "code",
   "execution_count": 2,
   "metadata": {},
   "outputs": [],
   "source": [
    "chat1='codebasics: Hello, I am having an issue with my order # 412889912, phone: 0369407684'\n",
    "chat2='codebasics: I have a problem with my order number 412889912, (123)-567-8910, sonhm@gmail.com'\n",
    "chat3='codebasics: My order 412889912 is having an issue, I was charged 300$ when online it says 280$'"
   ]
  },
  {
   "cell_type": "code",
   "execution_count": 3,
   "metadata": {},
   "outputs": [
    {
     "data": {
      "text/plain": [
       "['0369407684']"
      ]
     },
     "execution_count": 3,
     "metadata": {},
     "output_type": "execute_result"
    }
   ],
   "source": [
    "pattern = '\\d{10}'\n",
    "\n",
    "matches = re.findall(pattern, chat1)\n",
    "matches"
   ]
  },
  {
   "cell_type": "code",
   "execution_count": 4,
   "metadata": {},
   "outputs": [
    {
     "data": {
      "text/plain": [
       "['(123)-567-8910']"
      ]
     },
     "execution_count": 4,
     "metadata": {},
     "output_type": "execute_result"
    }
   ],
   "source": [
    "pattern =  '\\d{10}|\\(\\d{3}\\)-\\d{3}-\\d{4}'\n",
    "\n",
    "matches = re.findall(pattern, chat2)\n",
    "matches"
   ]
  },
  {
   "cell_type": "code",
   "execution_count": 5,
   "metadata": {},
   "outputs": [
    {
     "data": {
      "text/plain": [
       "['sonhm@gmail.com']"
      ]
     },
     "execution_count": 5,
     "metadata": {},
     "output_type": "execute_result"
    }
   ],
   "source": [
    "pattern = '[a-z0-0A-Z_]*@[a-z0-9A-Z]*\\.[a-zA-Z]*'\n",
    "\n",
    "matches = re.findall(pattern, chat2)\n",
    "matches"
   ]
  },
  {
   "cell_type": "code",
   "execution_count": 6,
   "metadata": {},
   "outputs": [
    {
     "data": {
      "text/plain": [
       "['412889912']"
      ]
     },
     "execution_count": 6,
     "metadata": {},
     "output_type": "execute_result"
    }
   ],
   "source": [
    "pattern = 'order [^\\d]*(\\d*)'\n",
    "\n",
    "matches = re.findall(pattern, chat2)\n",
    "matches"
   ]
  },
  {
   "cell_type": "code",
   "execution_count": 7,
   "metadata": {},
   "outputs": [
    {
     "data": {
      "text/plain": [
       "'79'"
      ]
     },
     "execution_count": 7,
     "metadata": {},
     "output_type": "execute_result"
    }
   ],
   "source": [
    "text ='''\n",
    "Chairman of the Workers' Party of Vietnam\n",
    "In office\n",
    "19 February 1951 – 2 September 1969\n",
    "General Secretary\t\n",
    "Trường Chinh\n",
    "Lê Duẩn (acting)\n",
    "Preceded by\tPosition established\n",
    "Succeeded by\tPosition abolished\n",
    "First Secretary of the Workers' Party of Vietnam\n",
    "In office\n",
    "1 November 1955 – 10 September 1960\n",
    "Preceded by\tTrường Chinh\n",
    "Succeeded by\tLê Duẩn\n",
    "1st President of the Democratic Republic of Vietnam\n",
    "In office\n",
    "2 September 1945 – 2 September 1969\n",
    "Preceded by\tPosition established\n",
    "Bảo Đại (as Emperor)\n",
    "Succeeded by\tTôn Đức Thắng\n",
    "1st Prime Minister of the Democratic Republic of Vietnam\n",
    "In office\n",
    "2 September 1945 – 20 September 1955\n",
    "Preceded by\tPosition established\n",
    "Trần Trọng Kim (as Prime Minister of the Empire of Vietnam)\n",
    "Succeeded by\tPhạm Văn Đồng\n",
    "Minister of Foreign Affairs\n",
    "In office\n",
    "28 August 1945 – 2 March 1946\n",
    "Preceded by\tTrần Văn Chương\n",
    "(Empire of Vietnam)\n",
    "Succeeded by\tNguyễn Tường Tam\n",
    "In office\n",
    "3 November 1946 – March 1947\n",
    "Preceded by\tNguyễn Tường Tam\n",
    "Succeeded by\tHoàng Minh Giám\n",
    "Full Member of the 2nd and 3rd Politburo\n",
    "In office\n",
    "31 March 1935 – 2 September 1969\n",
    "Personal details\n",
    "Born\tNguyễn Sinh Cung\n",
    "19 May 1890\n",
    "Kim Liên, French Indochina\n",
    "Died\t2 September 1969 (aged 79)\n",
    "Hanoi, North Vietnam\n",
    "Resting place\tHo Chi Minh Mausoleum, Hanoi\n",
    "Political party\t\n",
    "French Section of the Workers' International (1919–1921)\n",
    "French Communist Party (1921–1925)\n",
    "Communist Party of Vietnam (1924–1969)\n",
    "Spouse\tTăng Tuyết Minh ​(m. 1926)​\n",
    "Relations\t\n",
    "Bạch Liên (or Nguyễn Thị Thanh; sister)\n",
    "Nguyễn Sinh Khiêm (or Nguyễn Tất Đạt; brother)\n",
    "Nguyễn Sinh Xin (brother)\n",
    "Parents\t\n",
    "Nguyễn Sinh Sắc (father)\n",
    "Hoàng Thị Loan (mother)\n",
    "Alma mater\tCommunist University of the Toilers of the East\n",
    "Profession\t\n",
    "Politicianrevolutionarypastry chef\n",
    "'''\n",
    "\n",
    "namePattern = 'Born(.*)\\n'\n",
    "agePattern = 'aged (\\d+)'\n",
    "\n",
    "name = re.findall(namePattern, text)[0].strip()\n",
    "\n",
    "age = re.findall(agePattern, text)[0]\n",
    "\n",
    "age"
   ]
  }
 ],
 "metadata": {
  "kernelspec": {
   "display_name": "Python 3.9.7 64-bit",
   "language": "python",
   "name": "python3"
  },
  "language_info": {
   "codemirror_mode": {
    "name": "ipython",
    "version": 3
   },
   "file_extension": ".py",
   "mimetype": "text/x-python",
   "name": "python",
   "nbconvert_exporter": "python",
   "pygments_lexer": "ipython3",
   "version": "3.9.7"
  },
  "orig_nbformat": 4,
  "vscode": {
   "interpreter": {
    "hash": "9d2e2287b90f84c05b564773cad156a65fe051f83fa7c81a3ad23c3ed1bf9926"
   }
  }
 },
 "nbformat": 4,
 "nbformat_minor": 2
}
